{
 "cells": [
  {
   "cell_type": "markdown",
   "metadata": {},
   "source": [
    "Here I set up a particle with a=1, e=0.99, so its pericenter is a(1-e) = 0.01.  I then set the new field sim.exit_min_peri to something bigger (0.1).  If any particle in the simulation gets within a distance exit_min_peri of particles[0], it will raise a Exit_min_peri exception that you can catch.  "
   ]
  },
  {
   "cell_type": "code",
   "execution_count": 1,
   "metadata": {
    "collapsed": true
   },
   "outputs": [],
   "source": [
    "import rebound\n",
    "sim = rebound.Simulation()\n",
    "sim.add(m=1.)\n",
    "sim.add(a=1.,e=0.99)\n",
    "sim.exit_min_peri = 0.1"
   ]
  },
  {
   "cell_type": "code",
   "execution_count": 2,
   "metadata": {
    "collapsed": false
   },
   "outputs": [
    {
     "name": "stdout",
     "output_type": "stream",
     "text": [
      "A particle got too close to the central body.\n",
      "checkpoint saved\n"
     ]
    }
   ],
   "source": [
    "try:\n",
    "    sim.integrate(100.)\n",
    "except rebound.Exit_min_peri as e:\n",
    "    print(e)\n",
    "    sim.save(\"checkpoint.bin\")\n",
    "    print(\"checkpoint saved\")"
   ]
  },
  {
   "cell_type": "code",
   "execution_count": null,
   "metadata": {
    "collapsed": true
   },
   "outputs": [],
   "source": []
  }
 ],
 "metadata": {
  "kernelspec": {
   "display_name": "Python 3",
   "language": "python",
   "name": "python3"
  },
  "language_info": {
   "codemirror_mode": {
    "name": "ipython",
    "version": 3
   },
   "file_extension": ".py",
   "mimetype": "text/x-python",
   "name": "python",
   "nbconvert_exporter": "python",
   "pygments_lexer": "ipython3",
   "version": "3.5.1"
  }
 },
 "nbformat": 4,
 "nbformat_minor": 0
}
