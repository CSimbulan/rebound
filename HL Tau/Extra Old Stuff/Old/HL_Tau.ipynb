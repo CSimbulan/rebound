{
 "cells": [
  {
   "cell_type": "code",
   "execution_count": 1,
   "metadata": {
    "collapsed": true
   },
   "outputs": [],
   "source": [
    "## AST425 Rebound Simulation\n",
    "## Author: Chris Simbulan"
   ]
  },
  {
   "cell_type": "code",
   "execution_count": 2,
   "metadata": {
    "collapsed": true
   },
   "outputs": [],
   "source": [
    "## Import Libraries -----------------------------------------------------------------------------------------\n",
    "import numpy as np\n",
    "import rebound as reb\n",
    "import copy\n",
    "from itertools import combinations\n",
    "import random\n",
    "import os.path"
   ]
  },
  {
   "cell_type": "code",
   "execution_count": 3,
   "metadata": {
    "collapsed": false
   },
   "outputs": [],
   "source": [
    "## Check if log file exists, if not, create a blank text file\n",
    "if (os.path.exists(\"log.txt\") == False):\n",
    "    x = np.array([])\n",
    "    np.savetxt(\"log.txt\", x)\n",
    "\n",
    "## Check if data file exists, if not, create a blank text file    \n",
    "if (os.path.exists(\"data.txt\") == False):\n",
    "    x = np.array([])\n",
    "    np.savetxt(\"data.txt\", x)\n",
    "    \n",
    "## Check if planet file exists, if not, create a blank text file    \n",
    "if (os.path.exists(\"planets.txt\") == False):\n",
    "    x = np.array([])\n",
    "    np.savetxt(\"planets.txt\", x)\n",
    "    \n",
    "## Open the log, data and planet files for reading and writing\n",
    "logfile = open(\"log.txt\", \"r+\")\n",
    "datafile = open(\"data.txt\", \"r+\")\n",
    "planetfile = open(\"planets.txt\", \"r+\")"
   ]
  },
  {
   "cell_type": "code",
   "execution_count": 4,
   "metadata": {
    "collapsed": true
   },
   "outputs": [],
   "source": [
    "## Create function to setup bodies with initial conditions\n",
    "def setup():\n",
    "    sim = reb.Simulation()\n",
    "    ## Define units, although these are the default\n",
    "    sim.units = (\"AU\", \"yr\", \"Msun\")\n",
    "    Mj = 9.542e-4 # Mass of Jupiter\n",
    "    Mst = 2.856e-4 # Mass of Saturn\n",
    "    Mnpt = 5.149e-5 # Mass of Neptune\n",
    "    \n",
    "    ## Generate five random starting angles\n",
    "    angles = []\n",
    "    for i in range(0,5):\n",
    "        angles.append(random.random()*2*np.pi)\n",
    "    \n",
    "    ## Add bodies\n",
    "    sim.add(m=1.0, id = 0) #Add solar mass planet\n",
    "    logfile.write(\"Solar mass star added at center.\\n\")\n",
    "    sim.add(m = Mst, a=13.6, e=0, inc = 0, f=angles[0], id = 1)\n",
    "    logfile.write(\"Saturn mass planet added 13.6 AU away and {0} degrees.\\n\".format(angles[0]*180/np.pi))\n",
    "    sim.add(m = Mst, a=33.3, e=0, inc = 0, f=angles[1], id = 2)\n",
    "    logfile.write(\"Saturn mass planet added 33.3 AU away and {0} degrees.\\n\".format(angles[1]*180/np.pi))\n",
    "    sim.add(m = Mst, a=65.1, e=0, inc = 0, f=angles[2], id = 3)\n",
    "    logfile.write(\"Saturn mass planet added 65.1 AU away and {0} degrees.\\n\".format(angles[2]*180/np.pi))\n",
    "    sim.add(m = Mst, a=77.3, e=0, inc = 0, f=angles[3], id = 4)\n",
    "    logfile.write(\"Saturn mass planet added 77.3 AU away and {0} degrees.\\n\".format(angles[3]*180/np.pi))\n",
    "    sim.add(m = Mst, a=93.0, e=0, inc = 0, f=angles[4], id = 5)\n",
    "    logfile.write(\"Saturn mass planet added 93.0 AU away and {0} degrees.\\n\".format(angles[4]*180/np.pi))\n",
    "    sim.move_to_com()\n",
    "    return sim"
   ]
  },
  {
   "cell_type": "code",
   "execution_count": 5,
   "metadata": {
    "collapsed": true
   },
   "outputs": [],
   "source": [
    "## Function to merge particles\n",
    "def mergeParticles(sim, time):\n",
    "    ## Find two closest particles\n",
    "    min_d2 = 1e9 # large number\n",
    "    particles = sim.particles\n",
    "    for p1, p2 in combinations(particles,2):\n",
    "        dx = p1.x - p2.x\n",
    "        dy = p1.y - p2.y\n",
    "        dz = p1.z - p2.z\n",
    "        d2 = dx*dx + dy*dy + dz*dz\n",
    "        if d2<min_d2:\n",
    "            min_d2 = d2\n",
    "            cp1 = p1\n",
    "            cp2 = p2\n",
    "    \n",
    "    ## Merge two closest particles\n",
    "    mergedPlanet = reb.Particle()\n",
    "    mergedPlanet.m  = cp1.m + cp2.m\n",
    "    mergedPlanet.x  = (cp1.m*cp1.x  + cp2.m*cp2.x) /mergedPlanet.m\n",
    "    mergedPlanet.y  = (cp1.m*cp1.y  + cp2.m*cp2.y) /mergedPlanet.m\n",
    "    mergedPlanet.z  = (cp1.m*cp1.z  + cp2.m*cp2.z) /mergedPlanet.m\n",
    "    mergedPlanet.vx = (cp1.m*cp1.vx + cp2.m*cp2.vx)/mergedPlanet.m\n",
    "    mergedPlanet.vy = (cp1.m*cp1.vy + cp2.m*cp2.vy)/mergedPlanet.m\n",
    "    mergedPlanet.vz = (cp1.m*cp1.vz + cp2.m*cp2.vz)/mergedPlanet.m\n",
    "    mergedPlanet.id = cp1.id\n",
    "    id1 = cp1.id\n",
    "    id2 = cp2.id\n",
    "    sim.remove(id=id1)\n",
    "    sim.remove(id=id2)\n",
    "    sim.add(mergedPlanet)\n",
    "    \n",
    "    ## Write to log file\n",
    "    logfile.write(\"Planets {0} and {1} have collided and merged \".format(str(id1), str(id2)))\n",
    "    logfile.write(\"at t = {0}.\\n\".format(time))\n",
    "    print (\"Planets {0} and {1} have collided and merged and became Planet {2} \".format(str(id1), str(id2), mergedPlanet.id))\n",
    "    print(\"at t = {0}.\\n\".format(time))"
   ]
  },
  {
   "cell_type": "code",
   "execution_count": null,
   "metadata": {
    "collapsed": true
   },
   "outputs": [],
   "source": [
    "## Define function to eject particles\n",
    "def ejectParticle(sim, time):    \n",
    "    max_d2 = 0.\n",
    "    for p in sim.particles:\n",
    "        d2 = p.x*p.x + p.y*p.y + p.z*p.z\n",
    "        if d2>max_d2:\n",
    "            max_d2 = d2\n",
    "            mid = p.id\n",
    "    sim.remove(id=mid)\n",
    "        \n",
    "    if mid != 0:\n",
    "        logfile.write(\"Planet {0} has been ejected \".format(str(mid)))\n",
    "        logfile.write(\"at t = {0}.\\n\".format(time))\n",
    "        print (\"Planet {0} has been ejected \".format(str(mid)))\n",
    "        print(\"at t = {0}.\\n\".format(time))"
   ]
  },
  {
   "cell_type": "code",
   "execution_count": null,
   "metadata": {
    "collapsed": false
   },
   "outputs": [],
   "source": [
    "## Create simulation\n",
    "sim = setup()\n",
    "   \n",
    "## Create array of pointers\n",
    "ps = sim.particles\n",
    "\n",
    "## Set distance for collision in AU\n",
    "Rj = 0.000477894503\n",
    "Rst = 0.00038925688\n",
    "sim.exit_min_distance = Rst\n",
    "## Set distance for ejection in AU\n",
    "sim.exit_max_distance = 2000.0\n",
    "   \n",
    "## Number of outputs\n",
    "Noutputs = 100000\n",
    "times = np.linspace(0,1.0e7*2.*np.pi,Noutputs)\n",
    "\n",
    "#distances = np.zeros((len(ps)-1,Noutputs))\n",
    "#xs = np.zeros((len(ps),Noutputs))\n",
    "#ys = np.zeros((len(ps),Noutputs))\n",
    "    \n",
    "## Plot the positions of the planets\n",
    "#%matplotlib inline\n",
    "#fig = reb.OrbitPlot(sim)\n",
    "   \n",
    "## Count number of ejections\n",
    "NE = 0\n",
    "   \n",
    "## Integrate the simulation\n",
    "for i,time in enumerate(times):\n",
    "    try:\n",
    "        sim.integrate(time)\n",
    "        ## This is to calculate the distance between each adjacent body for plotting purpose\n",
    "        ## to see if a collision does happen\n",
    "        \n",
    "        #for j in range(1, (len(ps) - 1)):\n",
    "        #    dx = ps[j].x - ps[j+1].x\n",
    "        #    dy = ps[j].y - ps[j+1].y\n",
    "        #    dz = ps[j].z - ps[j+1].z\n",
    "        #    distances[j-1][i] = np.sqrt(dx*dx+dy*dy+dz*dz)\n",
    "        \n",
    "    ## If a the particles come too close, merge them\n",
    "    except reb.Encounter as error:\n",
    "        mergeParticles(sim, time)     \n",
    "    ## If a particle reaches past the max distance, treat is as ejected\n",
    "    except reb.Escape as error:\n",
    "        ejectParticle(sim, time)\n",
    "        NE += 1\n",
    "    if (time >= 1.0e6*2.*np.pi):\n",
    "        #datafile.write(\"\\nAt time t = {0}: ----------\\n\\n\".format(time))  \n",
    "        for o in sim.calculate_orbits():\n",
    "            #print o\n",
    "            ## Write the semi-major axis, eccentricity, and inclination to data file\n",
    "            datafile.write(\"{0}\\t{1}\\t{2}\\t{3}\\t{4}\\t{5}\\t{6}\\n\".format(time, o.a, o.e,\n",
    "                                                                             o.inc, o.Omega, o.omega, o.f))        \n",
    "    #for k in range(sim.N):\n",
    "    #    xs[sim.particles[k].id,i] = sim.particles[k].x\n",
    "    #    ys[sim.particles[k].id,i] = sim.particles[k].y\n",
    "logfile.write(\"Number of planets at the end of the simulation: {0}\\n\\n\".format(sim.N - 1))\n",
    "#print(\"Number of particles at the end of the simulation: %d.\"%sim.N)\n",
    "   \n",
    "\n",
    "## Save the simulation\n",
    "sim.save(\"HL_Tau.bin\")\n",
    "\n",
    "print (\"1.0e7 orbital periods done\")"
   ]
  },
  {
   "cell_type": "code",
   "execution_count": null,
   "metadata": {
    "collapsed": false
   },
   "outputs": [],
   "source": []
  },
  {
   "cell_type": "code",
   "execution_count": null,
   "metadata": {
    "collapsed": true
   },
   "outputs": [],
   "source": [
    "## Close all the files\n",
    "logfile.close()\n",
    "datafile.close()\n",
    "planetfile.close()"
   ]
  },
  {
   "cell_type": "code",
   "execution_count": null,
   "metadata": {
    "collapsed": false
   },
   "outputs": [],
   "source": []
  },
  {
   "cell_type": "raw",
   "metadata": {
    "collapsed": true
   },
   "source": []
  },
  {
   "cell_type": "code",
   "execution_count": null,
   "metadata": {
    "collapsed": false
   },
   "outputs": [],
   "source": []
  },
  {
   "cell_type": "code",
   "execution_count": null,
   "metadata": {
    "collapsed": false
   },
   "outputs": [],
   "source": []
  },
  {
   "cell_type": "code",
   "execution_count": null,
   "metadata": {
    "collapsed": true
   },
   "outputs": [],
   "source": []
  }
 ],
 "metadata": {
  "kernelspec": {
   "display_name": "Python 2",
   "language": "python",
   "name": "python2"
  },
  "language_info": {
   "codemirror_mode": {
    "name": "ipython",
    "version": 2
   },
   "file_extension": ".py",
   "mimetype": "text/x-python",
   "name": "python",
   "nbconvert_exporter": "python",
   "pygments_lexer": "ipython2",
   "version": "2.7.6"
  }
 },
 "nbformat": 4,
 "nbformat_minor": 0
}
