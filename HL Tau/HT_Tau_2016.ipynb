{
 "cells": [
  {
   "cell_type": "code",
   "execution_count": null,
   "metadata": {
    "collapsed": true
   },
   "outputs": [],
   "source": [
    "## AST425 Rebound Simulation\n",
    "## Author: Chris Simbulan"
   ]
  },
  {
   "cell_type": "code",
   "execution_count": null,
   "metadata": {
    "collapsed": false
   },
   "outputs": [],
   "source": [
    "## Import Libraries -----------------------------------------------------------------------------------------\n",
    "import numpy as np\n",
    "import rebound as reb\n",
    "import reboundx as rebx\n",
    "import copy\n",
    "from itertools import combinations\n",
    "import random\n",
    "import os.path\n",
    "import matplotlib.pyplot as plt"
   ]
  },
  {
   "cell_type": "code",
   "execution_count": null,
   "metadata": {
    "collapsed": false
   },
   "outputs": [],
   "source": [
    "## Blank array to save to empty text file\n",
    "emp = np.array([])\n",
    "\n",
    "## Choose seed\n",
    "seed = 9\n",
    "\n",
    "## Check if log file exists, if not, create a blank text file\n",
    "if (os.path.exists(\"Log Files/log_seed{0}.txt\".format(seed)) == False):\n",
    "    np.savetxt(\"Log Files/log_seed{0}.txt\".format(seed), emp)\n",
    "\n",
    "## Check if data file exists, if not, create a blank text file    \n",
    "if (os.path.exists(\"Data Files/data_seed{0}.txt\".format(seed)) == False):\n",
    "    np.savetxt(\"Data Files/data_seed{0}.txt\".format(seed), emp)\n",
    "    \n",
    "## Check if planet file exists, if not, create a blank text file    \n",
    "if (os.path.exists(\"Planet Files/planets_seed{0}.txt\".format(seed)) == False):\n",
    "    np.savetxt(\"Planet Files/planets_seed{0}.txt\".format(seed), emp)\n",
    "    \n",
    "## Check if special file exists, if not, create a blank text file   \n",
    "if (os.path.exists(\"Special.txt\") == False):\n",
    "    np.savetxt(\"Special.txt\", emp)\n",
    "    \n",
    "## Open all files for reading and writing\n",
    "logfile = open(\"Log Files/log_seed{0}.txt\".format(seed), \"r+\")\n",
    "datafile = open(\"Data Files/data_seed{0}.txt\".format(seed), \"r+\")\n",
    "planetfile = open(\"Planet Files/planets_seed{0}.txt\".format(seed), \"r+\")\n",
    "specialfile = open(\"Special.txt\", \"a\")"
   ]
  },
  {
   "cell_type": "code",
   "execution_count": null,
   "metadata": {
    "collapsed": true
   },
   "outputs": [],
   "source": [
    "## Create function to setup bodies with initial conditions\n",
    "def setup(seed):\n",
    "    sim = reb.Simulation()\n",
    "    ## Define units, although these are the default\n",
    "    sim.units = (\"AU\", \"yr\", \"Msun\")\n",
    "    Mj = 9.542e-4 # Mass of Jupiter\n",
    "    Mst = 2.856e-4 # Mass of Saturn\n",
    "    Mnpt = 5.149e-5 # Mass of Neptune\n",
    "    \n",
    "    ## Random Seed\n",
    "    random.seed(seed)\n",
    "    \n",
    "    ## Generate five random starting angles\n",
    "    angles = []\n",
    "    for i in range(0,5):\n",
    "        angles.append(random.random()*2*np.pi)\n",
    "    \n",
    "    ## Add bodies\n",
    "    sim.add(m=1.0, id = 0) #Add solar mass planet\n",
    "    logfile.write(\"Solar mass star added at center.\\n\")\n",
    "    sim.add(m = Mj, a=13.2, e=0, inc = 0, f=angles[0], id = 1)\n",
    "    logfile.write(\"Jupiter mass planet added 13.2 AU away and {0} degrees.\\n\".format(angles[0]*180/np.pi))\n",
    "    sim.add(m = Mj, a=32.3, e=0, inc = 0, f=angles[1], id = 2)\n",
    "    logfile.write(\"Jupiter mass planet added 32.3 AU away and {0} degrees.\\n\".format(angles[1]*180/np.pi))\n",
    "    sim.add(m = Mj, a=64.2, e=0, inc = 0, f=angles[2], id = 3)\n",
    "    logfile.write(\"Jupiter mass planet added 64.2 AU away and {0} degrees.\\n\".format(angles[2]*180/np.pi))\n",
    "    sim.add(m = Mj, a=73.7, e=0, inc = 0, f=angles[3], id = 4)\n",
    "    logfile.write(\"Jupiter mass planet added 73.7 AU away and {0} degrees.\\n\".format(angles[3]*180/np.pi))\n",
    "    sim.add(m = Mj, a=91.0, e=0, inc = 0, f=angles[4], id = 5)\n",
    "    logfile.write(\"Jupiter mass planet added 91.0 AU away and {0} degrees.\\n\".format(angles[4]*180/np.pi))\n",
    "    sim.move_to_com()\n",
    "    \n",
    "    ## Save checkpoint of starting point\n",
    "    sim.save(\"Save States/HL_Tau_Seed_{0}_Start.bin\".format(seed))\n",
    "    \n",
    "    ## Original positions (13.6, 33.3, 65.1, 77.3, 93.0)\n",
    "    ## ALMA (13.2, 32.3, 64.2, 73.7, 91.0)\n",
    "    \n",
    "    ## RebX for resonance\n",
    "    #rbx = rebx.Extras(sim)\n",
    "    #rbx.add_modify_orbits_forces()\n",
    "    #tmax_e = 1.0e5\n",
    "    #tmax_a = 1.0e7\n",
    "    \n",
    "    #for p in sim.particles:\n",
    "    #    p.tau_e = tmax_e\n",
    "    #sim.particles[-1].tau_a = -tmax_a\n",
    "    #sim.particles[-2].tau_a = -tmax_a\n",
    "    return sim"
   ]
  },
  {
   "cell_type": "code",
   "execution_count": null,
   "metadata": {
    "collapsed": true
   },
   "outputs": [],
   "source": [
    "## Function to merge particles\n",
    "def mergeParticles(sim, time):\n",
    "    ## Find two closest particles\n",
    "    min_d2 = 1e9 # large number\n",
    "    particles = sim.particles\n",
    "    for p1, p2 in combinations(particles,2):\n",
    "        dx = p1.x - p2.x\n",
    "        dy = p1.y - p2.y\n",
    "        dz = p1.z - p2.z\n",
    "        d2 = dx*dx + dy*dy + dz*dz\n",
    "        if d2<min_d2:\n",
    "            min_d2 = d2\n",
    "            cp1 = p1\n",
    "            cp2 = p2\n",
    "    \n",
    "    ## Merge two closest particles, as long as neither is the star\n",
    "    if (cp1.id != 0 and cp2.id != 0):\n",
    "        mergedPlanet = reb.Particle()\n",
    "        mergedPlanet.m  = cp1.m + cp2.m\n",
    "        mergedPlanet.x  = (cp1.m*cp1.x  + cp2.m*cp2.x) /mergedPlanet.m\n",
    "        mergedPlanet.y  = (cp1.m*cp1.y  + cp2.m*cp2.y) /mergedPlanet.m\n",
    "        mergedPlanet.z  = (cp1.m*cp1.z  + cp2.m*cp2.z) /mergedPlanet.m\n",
    "        mergedPlanet.vx = (cp1.m*cp1.vx + cp2.m*cp2.vx)/mergedPlanet.m\n",
    "        mergedPlanet.vy = (cp1.m*cp1.vy + cp2.m*cp2.vy)/mergedPlanet.m\n",
    "        mergedPlanet.vz = (cp1.m*cp1.vz + cp2.m*cp2.vz)/mergedPlanet.m\n",
    "        mergedPlanet.id = cp1.id\n",
    "        id1 = cp1.id\n",
    "        id2 = cp2.id\n",
    "        sim.remove(id=id1)\n",
    "        sim.remove(id=id2)\n",
    "        sim.add(mergedPlanet)\n",
    "        ## Write to log file\n",
    "        logfile.write(\"Planets {0} and {1} have collided and merged at t = {2}.\\n\".format(str(id1), str(id2), time))\n",
    "        print (\"Planets {0} and {1} have collided and merged and became Planet {2} at t = {3}.\\n\".format(str(id1), str(id2), mergedPlanet.id, time))\n",
    "    ## If particle 1 is the star, remove particle 2\n",
    "    elif (cp1.id == 0):\n",
    "        id1 = cp2.id\n",
    "        sim.remove(id=id1)\n",
    "        logfile.write(\"Star and planet {0} have collided at t = {1}.\\n\".format(str(id1), time))\n",
    "        specialfile.write(\"Seed {0}: Planet has collided with star at t = {1}.\\n\".format(seed, time))\n",
    "        print (\"Star and planet {0} have collided at t = {1}.\\n\".format(str(id1), time))\n",
    "    ## If particle 2 is the star, remove particle 1\n",
    "    elif (cp2.id == 0):\n",
    "        id1 = cp1.id\n",
    "        sim.remove(id=id1)\n",
    "        logfile.write(\"Star and planet {0} have collided at t = {1}.\\n\".format(str(id1), time))\n",
    "        specialfile.write(\"Seed {0}: Planet has collided with star at t = {1}.\\n\".format(seed, time))\n",
    "        print (\"Star and planet {0} have collided at t = {1}.\\n\".format(str(id1), time))  \n",
    "    sim.move_to_com()"
   ]
  },
  {
   "cell_type": "code",
   "execution_count": null,
   "metadata": {
    "collapsed": true
   },
   "outputs": [],
   "source": [
    "## Define function to eject particles\n",
    "def ejectParticle(sim, time):    \n",
    "    max_d2 = 0.\n",
    "    for p in sim.particles:\n",
    "        d2 = p.x*p.x + p.y*p.y + p.z*p.z\n",
    "        if d2>max_d2:\n",
    "            max_d2 = d2\n",
    "            mid = p.id\n",
    "    sim.remove(id=mid)\n",
    "    sim.move_to_com()    \n",
    "    if mid != 0:\n",
    "        logfile.write(\"Planet {0} has been ejected at t = {1}.\\n\".format(str(mid), time))\n",
    "        print (\"Planet {0} has been ejected at t = {1}.\\n\".format(str(mid), time))"
   ]
  },
  {
   "cell_type": "code",
   "execution_count": null,
   "metadata": {
    "collapsed": true
   },
   "outputs": [],
   "source": [
    "## Define function for wrapping and converitng to degrees\n",
    "def zeroTo360(val):\n",
    "    while val < 0:\n",
    "        val += 2*np.pi\n",
    "    while val > 2*np.pi:\n",
    "        val -= 2*np.pi\n",
    "    return val*180/np.pi"
   ]
  },
  {
   "cell_type": "code",
   "execution_count": null,
   "metadata": {
    "collapsed": true
   },
   "outputs": [],
   "source": [
    "def run_sim(seed):\n",
    "    ## Create simulation\n",
    "    sim = setup(seed)\n",
    "    \n",
    "    ## Create array of pointers\n",
    "    ps = sim.particles\n",
    "    \n",
    "    ## Set distance for collision in AU\n",
    "    Rj = 0.000477894503\n",
    "    Rst = 0.00038925688\n",
    "    sim.exit_min_distance = Rst\n",
    "    ## Set distance for ejection in AU\n",
    "    sim.exit_max_distance = 1000.0\n",
    "    \n",
    "    ## Number of outputs\n",
    "    Noutputs = 100000\n",
    "    #times = np.linspace(0,1.0e6*2.*np.pi,Noutputs)\n",
    "    times = np.logspace(0, 6, Noutputs)\n",
    "    \n",
    "    ## Number of planets for resonance\n",
    "    #Nplanets = 3\n",
    "    #longitude = np.zeros((Nplanets,Noutputs))\n",
    "    #varpi = np.zeros((Nplanets,Noutputs))\n",
    "    \n",
    "    #distances = np.zeros((len(ps)-1,Noutputs))\n",
    "    #xs = np.zeros((len(ps),Noutputs))\n",
    "    #ys = np.zeros((len(ps),Noutputs))\n",
    "    \n",
    "    ## Plot the positions of the planets\n",
    "    #%matplotlib inline\n",
    "    #fig = reb.OrbitPlot(sim)\n",
    "    \n",
    "    ## Count number of ejections\n",
    "    NE = 0\n",
    "    ## Count number of collisions\n",
    "    NC = 0 \n",
    "    \n",
    "    ## Switch to stop recording large eccentricities and inclinations\n",
    "    e_switch = True\n",
    "    inc_switch = True\n",
    "    \n",
    "    ## Integrate the simulation\n",
    "    for i,time in enumerate(times):\n",
    "        try:\n",
    "            sim.integrate(time)\n",
    "            ## This is to calculate the distance between each adjacent body for plotting purpose\n",
    "            ## to see if a collision does happen\n",
    "            \n",
    "            #for j in range(1, (len(ps) - 1)):\n",
    "            #    dx = ps[j].x - ps[j+1].x\n",
    "            #    dy = ps[j].y - ps[j+1].y\n",
    "            #    dz = ps[j].z - ps[j+1].z\n",
    "            #    distances[j-1][i] = np.sqrt(dx*dx+dy*dy+dz*dz)\n",
    "        \n",
    "        ## If a the particles come too close, merge them\n",
    "        except reb.Encounter as error:\n",
    "            mergeParticles(sim, time)\n",
    "            NC += 1\n",
    "        ## If a particle reaches past the max distance, treat is as ejected\n",
    "        except reb.Escape as error:\n",
    "            ejectParticle(sim, time)\n",
    "            NE += 1\n",
    "        #if (len(sim.particles) == 6):\n",
    "        #    os = sim.calculate_orbits()\n",
    "        #    for j in range(Nplanets):\n",
    "                #x[j][i] = ps[j+4].x  # we use the 0 index in x for Jup and 1 for Sat, but the indices for ps start with the Sun at 0\n",
    "                #ecc[j][i] = os[j+3].e\n",
    "        #        longitude[j][i] = os[j+2].l\n",
    "        #        varpi[j][i] = os[j+2].Omega + os[j+2].omega\n",
    "        \n",
    "        if (time >= 5.0e5):\n",
    "            #datafile.write(\"\\nAt time t = {0}: ----------\\n\\n\".format(time))  \n",
    "            for o in sim.calculate_orbits():\n",
    "                #print o\n",
    "                ## Write the semi-major axis, eccentricity, and inclination to data file\n",
    "                datafile.write(\"{0}\\t{1}\\t{2}\\t{3}\\t{4}\\t{5}\\t{6}\\n\".format(time, o.a, o.e,\n",
    "                                                                            o.inc, o.Omega, o.omega, o.f))\n",
    "                if (o.e > 0.999):\n",
    "                    if e_switch == True:\n",
    "                        specialfile.write(\"Seed {0}: Eccentricity over 0.999 detected at t = {1}.\\n\".format(seed, time))\n",
    "                        e_switch = False\n",
    "                if (o.inc > 0.7):\n",
    "                    if inc_switch == True:\n",
    "                        specialfile.write(\"Seed {0}: Inclination over 0.7 detected at t = {1}.\\n\".format(seed, time))\n",
    "                        inc_switch = False\n",
    "                                                                            \n",
    "        #for k in range(sim.N):\n",
    "        #    xs[sim.particles[k].id,i] = sim.particles[k].x\n",
    "        #    ys[sim.particles[k].id,i] = sim.particles[k].y\n",
    "    logfile.write(\"Number of planets at the end of the simulation: {0}\\n\\n\".format(sim.N - 1))\n",
    "    #print(\"Number of particles at the end of the simulation: %d.\"%sim.N)\n",
    "    \n",
    "    ## Save the checkpoint \n",
    "    sim.save(\"Save States/HL_Tau_Seed_{0}_Checkpoint.bin\".format(seed))\n",
    "    \n",
    "    if (sim.N - 1 == 5):\n",
    "        specialfile.write(\"Seed {0}: All five planets remained.\\n\".format(seed))\n",
    "    if (sim.N - 1 == 1):\n",
    "        specialfile.write(\"Seed {0}: Only one planet remained.\\n\".format(seed))\n",
    "    if (NE == 4):\n",
    "        specialfile.write(\"Seed {0}: Four planets have been ejected.\\n\".format(seed))\n",
    "    if (NC == 4):\n",
    "        specialfile.write(\"Seed {0}: All planets have collided and merged.\\n\".format(seed))\n",
    "    \n",
    "    return sim, sim.N, NE#, longitude, varpi"
   ]
  },
  {
   "cell_type": "code",
   "execution_count": null,
   "metadata": {
    "collapsed": false
   },
   "outputs": [],
   "source": [
    "## Write subheader for simulation number to log file\n",
    "##logfile.write(\"Simulation for Seed {0}\\n\\n\".format(seed))\n",
    "    \n",
    "## Run one simulation and retrieve number of planets remaining\n",
    "#sim, NN, NE = run_sim(seed)\n",
    "    \n",
    "## Write number of planets left to planet file\n",
    "#planetfile.write(str(NN - 1) + \"\\t\" + str(NE) + \"\\n\")\n",
    "    \n",
    "## Print statement to make sure the script is running\n",
    "#print (\"Number of planets at the end of simulation is {0} ---------------\\n\".format(NN - 1))\n",
    "\n",
    "## For multiple seeds\n",
    "for i in range(51, 101):\n",
    "    seed = i\n",
    "    print (\"Seed {0} Simulation\\n\\n\".format(seed))\n",
    "    ## Check if log file exists, if not, create a blank text file\n",
    "    if (os.path.exists(\"Log Files/log_seed{0}.txt\".format(seed)) == False):\n",
    "        np.savetxt(\"Log Files/log_seed{0}.txt\".format(seed), emp)\n",
    "\n",
    "    ## Check if data file exists, if not, create a blank text file    \n",
    "    if (os.path.exists(\"Data Files/data_seed{0}.txt\".format(seed)) == False):\n",
    "        np.savetxt(\"Data Files/data_seed{0}.txt\".format(seed), emp)\n",
    "    \n",
    "    ## Check if planet file exists, if not, create a blank text file    \n",
    "    if (os.path.exists(\"Planet Files/planets_seed{0}.txt\".format(seed)) == False):\n",
    "        np.savetxt(\"Planet Files/planets_seed{0}.txt\".format(seed), emp)\n",
    "    \n",
    "    ## Open the log, data and planet files for reading and writing\n",
    "    logfile = open(\"Log Files/log_seed{0}.txt\".format(seed), \"r+\")\n",
    "    datafile = open(\"Data Files/data_seed{0}.txt\".format(seed), \"r+\")\n",
    "    planetfile = open(\"Planet Files/planets_seed{0}.txt\".format(seed), \"r+\")\n",
    "    \n",
    "    ## Write subheader for simulation number to log file\n",
    "    logfile.write(\"Simulation for Seed {0}\\n\\n\".format(seed))\n",
    "    \n",
    "    ## Run one simulation and retrieve number of planets remaining\n",
    "    sim, NN, NE = run_sim(seed)\n",
    "    \n",
    "    ## Write number of planets left to planet file\n",
    "    planetfile.write(str(NN - 1) + \"\\t\" + str(NE) + \"\\n\")\n",
    "    \n",
    "    ## Print statement to make sure the script is running\n",
    "    print (\"Number of planets at the end of simulation is {0} ---------------\\n\".format(NN - 1))"
   ]
  },
  {
   "cell_type": "code",
   "execution_count": null,
   "metadata": {
    "collapsed": true
   },
   "outputs": [],
   "source": [
    "## Close all the files\n",
    "logfile.close()\n",
    "datafile.close()\n",
    "planetfile.close()\n",
    "specialfile.close()"
   ]
  },
  {
   "cell_type": "code",
   "execution_count": null,
   "metadata": {
    "collapsed": false
   },
   "outputs": [],
   "source": [
    "## Print desired orbital elements\n",
    "for o in sim.calculate_orbits():\n",
    "    print o.a, o.e, o.inc"
   ]
  },
  {
   "cell_type": "code",
   "execution_count": null,
   "metadata": {
    "collapsed": false
   },
   "outputs": [],
   "source": [
    "## Plot the orbits\n",
    "%matplotlib inline\n",
    "fig = reb.OrbitPlot(sim, unitlabel=\"[AU]\", periastron=True, lw=2)"
   ]
  },
  {
   "cell_type": "code",
   "execution_count": null,
   "metadata": {
    "collapsed": false
   },
   "outputs": [],
   "source": [
    "## Import data\n",
    "time, a, e, inc, Omega, omega, f = np.loadtxt(\"Data Files/data_seed{0}.txt\".format(seed), unpack = True)\n",
    "\n",
    "%matplotlib inline\n",
    "fig = plt.figure(figsize = (12,5))\n",
    "ax1 = fig.add_subplot(2,1,1)\n",
    "ax1.plot(time, a, '.')\n",
    "ax1.set_title(\"Semi-Major Axis Over Time\")\n",
    "ax1.set_xlabel(\"t[yr]\")\n",
    "ax1.set_ylabel(\"a[AU]\")\n",
    "plt.show()"
   ]
  },
  {
   "cell_type": "code",
   "execution_count": null,
   "metadata": {
    "collapsed": false
   },
   "outputs": [],
   "source": [
    "%matplotlib inline\n",
    "fig2 = plt.figure(figsize = (12,5))\n",
    "ax1 = fig2.add_subplot(2,1,1)\n",
    "ax1.plot(time, e, '.')\n",
    "ax1.set_title(\"Eccentricity Over Time\")\n",
    "ax1.set_xlabel(\"t[yr]\")\n",
    "ax1.set_ylabel(\"e\")\n",
    "plt.show()"
   ]
  },
  {
   "cell_type": "code",
   "execution_count": null,
   "metadata": {
    "collapsed": true
   },
   "outputs": [],
   "source": []
  }
 ],
 "metadata": {
  "kernelspec": {
   "display_name": "Python 2",
   "language": "python",
   "name": "python2"
  },
  "language_info": {
   "codemirror_mode": {
    "name": "ipython",
    "version": 2
   },
   "file_extension": ".py",
   "mimetype": "text/x-python",
   "name": "python",
   "nbconvert_exporter": "python",
   "pygments_lexer": "ipython2",
   "version": "2.7.10"
  }
 },
 "nbformat": 4,
 "nbformat_minor": 0
}
